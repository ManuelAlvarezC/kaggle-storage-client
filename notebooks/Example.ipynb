{
 "cells": [
  {
   "cell_type": "markdown",
   "metadata": {},
   "source": [
    "# Introduction\n",
    "\n",
    "In this notebook we provide a simple example of how to use the KaggleStorageClient.\n",
    "\n",
    "Please note, that to make this notebook run properly, this repository must have been installed as a python package.\n",
    "\n",
    "In order to use the kaggle credentials you must have them properly configured.\n",
    "\n",
    "## Setting everything up"
   ]
  },
  {
   "cell_type": "code",
   "execution_count": 1,
   "metadata": {},
   "outputs": [],
   "source": [
    "import os\n",
    "import pandas as pd\n",
    "\n",
    "from kaggle_storage_client import KaggleStorageClient"
   ]
  },
  {
   "cell_type": "code",
   "execution_count": 2,
   "metadata": {},
   "outputs": [],
   "source": [
    "client = KaggleStorageClient()"
   ]
  },
  {
   "cell_type": "markdown",
   "metadata": {},
   "source": [
    "## Creating the dummiest of datasets"
   ]
  },
  {
   "cell_type": "code",
   "execution_count": 3,
   "metadata": {},
   "outputs": [],
   "source": [
    "df = pd.DataFrame([{\n",
    "    'A': 0,\n",
    "    'B': 1\n",
    "}])"
   ]
  },
  {
   "cell_type": "markdown",
   "metadata": {},
   "source": [
    "## Uploading by using the file path\n",
    "\n",
    "First we will be creating an example directory and saving our dataset there, then we will upload it to kaggle using `add_upload`, and passing it only the file path."
   ]
  },
  {
   "cell_type": "code",
   "execution_count": 5,
   "metadata": {},
   "outputs": [],
   "source": [
    "example_dir = 'example'\n",
    "file_path = os.path.join(example_dir, 'test.csv')\n",
    "os.mkdir(example_dir)\n",
    "df.to_csv(file_path)"
   ]
  },
  {
   "cell_type": "code",
   "execution_count": 7,
   "metadata": {},
   "outputs": [
    {
     "name": "stdout",
     "output_type": "stream",
     "text": [
      "upload -dataset example-dataset -filepath data/manuelalvarez/example-dataset/example.csv -folder data/manuelalvarez/example-dataset\n",
      "remote-status of manuelalvarez/example-dataset is None\n",
      "Data package template written to: data/manuelalvarez/example-dataset/dataset-metadata.json\n",
      "{\"title\": \"Example Dataset\", \"id\": \"manuelalvarez/example-dataset\", \"licenses\": [{\"name\": \"CC0-1.0\"}]}\n",
      "create data/manuelalvarez/example-dataset\n",
      "data/manuelalvarez/example-dataset\n",
      "  f> example.csv\n",
      "  >> [L001] ,A,B\n",
      "  >> [L002] 0,0,1\n",
      "  f> dataset-metadata.json\n",
      "  >> [L001] {\"title\": \"Example Dataset\", \"id\": \"manuelalvarez/example-dataset\", \"licenses\": [{\"name\": \"CC0-1.0\"}]}\n",
      "Starting upload for file example.csv\n"
     ]
    },
    {
     "name": "stderr",
     "output_type": "stream",
     "text": [
      "100%|██████████| 11.0/11.0 [00:03<00:00, 3.25B/s]\n"
     ]
    },
    {
     "name": "stdout",
     "output_type": "stream",
     "text": [
      "Upload successful: example.csv (11B)\n",
      "Your private Dataset is being created. Please check progress at https://www.kaggle.com/manuelalvarez/example-dataset\n"
     ]
    }
   ],
   "source": [
    "dataset = 'example-dataset' # Name of our kaggle dataset.\n",
    "kaggle_file_name = 'example.csv' # Name of your file in the local storage and kaggle dataset.\n",
    "client.add_upload(dataset,kaggle_file_name , file_path)"
   ]
  },
  {
   "cell_type": "code",
   "execution_count": 8,
   "metadata": {},
   "outputs": [],
   "source": [
    "# Cleaning everything\n",
    "\n",
    "os.remove(file_path)\n",
    "os.rmdir(example_dir)"
   ]
  },
  {
   "cell_type": "markdown",
   "metadata": {},
   "source": [
    "# Uploading using a DataFrame\n",
    "\n",
    "Now we are going to upload the same file, but with a different name using the DataFrame uploading, to do so,we need to define a new argument, `content_call`."
   ]
  },
  {
   "cell_type": "code",
   "execution_count": 9,
   "metadata": {},
   "outputs": [
    {
     "name": "stdout",
     "output_type": "stream",
     "text": [
      "upload -dataset example-dataset -filepath data/manuelalvarez/example-dataset/example2.csv -folder data/manuelalvarez/example-dataset\n",
      "remote-status of manuelalvarez/example-dataset is ready\n",
      "{\"title\": \"Example Dataset\", \"id\": \"manuelalvarez/example-dataset\", \"licenses\": [{\"name\": \"CC0-1.0\"}]}\n",
      "sync data/manuelalvarez/example-dataset\n",
      "data/manuelalvarez/example-dataset\n",
      "  f> example2.csv\n",
      "  >> [L001] A,B\n",
      "  >> [L002] 0,1\n",
      "  f> example.csv\n",
      "  >> [L001] ,A,B\n",
      "  >> [L002] 0,0,1\n",
      "  f> dataset-metadata.json\n",
      "  >> [L001] {\"title\": \"Example Dataset\", \"id\": \"manuelalvarez/example-dataset\", \"licenses\": [{\"name\": \"CC0-1.0\"}]}\n",
      "Starting upload for file example2.csv\n"
     ]
    },
    {
     "name": "stderr",
     "output_type": "stream",
     "text": [
      "100%|██████████| 8.00/8.00 [00:03<00:00, 2.11B/s]\n"
     ]
    },
    {
     "name": "stdout",
     "output_type": "stream",
     "text": [
      "Upload successful: example2.csv (8B)\n",
      "Starting upload for file example.csv\n"
     ]
    },
    {
     "name": "stderr",
     "output_type": "stream",
     "text": [
      "100%|██████████| 11.0/11.0 [00:04<00:00, 2.62B/s]\n"
     ]
    },
    {
     "name": "stdout",
     "output_type": "stream",
     "text": [
      "Upload successful: example.csv (11B)\n",
      "Dataset version is being created. Please check progress at https://www.kaggle.com/manuelalvarez/example-dataset\n"
     ]
    }
   ],
   "source": [
    "dataset = 'example-dataset' # Name of our kaggle dataset.\n",
    "kaggle_file_name = 'example2.csv' # Name of your file in the local storage and kaggle dataset.\n",
    "call = ('to_csv', [], {'header': True, 'index':False})\n",
    "\n",
    "client.add_upload(dataset, kaggle_file_name, df, call)"
   ]
  },
  {
   "cell_type": "code",
   "execution_count": null,
   "metadata": {},
   "outputs": [],
   "source": []
  }
 ],
 "metadata": {
  "kernelspec": {
   "display_name": "Python 3",
   "language": "python",
   "name": "python3"
  },
  "language_info": {
   "codemirror_mode": {
    "name": "ipython",
    "version": 3
   },
   "file_extension": ".py",
   "mimetype": "text/x-python",
   "name": "python",
   "nbconvert_exporter": "python",
   "pygments_lexer": "ipython3",
   "version": "3.7.5"
  }
 },
 "nbformat": 4,
 "nbformat_minor": 4
}
