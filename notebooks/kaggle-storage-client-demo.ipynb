{
 "cells": [
  {
   "cell_type": "code",
   "execution_count": null,
   "metadata": {
    "pycharm": {
     "is_executing": true,
     "name": "#%% install dependency packages\n"
    }
   },
   "outputs": [],
   "source": [
    "\n",
    "# the kaggle api is used for uploading and downloading datasets.  \n",
    "# This dependency is required by kaggle-storage-client.\n",
    "!pip install kaggle\n",
    "\n",
    "# pandas is used for visualizing the example datasets.  \n",
    "# This dependency is for demonstration purposes only and is not necessarily required for by dependents of kaggle-storage-client.\n",
    "\n",
    "!pip install pandas"
   ]
  },
  {
   "cell_type": "code",
   "execution_count": null,
   "metadata": {
    "pycharm": {
     "is_executing": false,
     "name": "#%% import dependency code\n"
    }
   },
   "outputs": [],
   "source": [
    "import kaggle_storage_client\n",
    "import os\n",
    "import pandas\n",
    "import kaggle\n",
    "import kaggle_storage_client.KaggleStorageClient\n",
    "\n",
    "from kaggle_storage_client import LocalStorage, KaggleStorageClient, type_descriptor, DATASET_METADATA_FILE, DEFAULT_CONFIG_FILE, DEFAULT_DATA_DIR, \\\n",
    "    print_fstree\n",
    "from os import remove, path\n",
    "from pandas import read_csv \n",
    "\n",
    "from tests import EXAMPLE_DATASET,  save_test_config_file\n"
   ]
  },
  {
   "cell_type": "code",
   "execution_count": null,
   "metadata": {
    "pycharm": {
     "is_executing": false,
     "name": "#%%\n"
    }
   },
   "outputs": [],
   "source": [
    "EXAMPLE_DATASET"
   ]
  },
  {
   "cell_type": "code",
   "execution_count": null,
   "metadata": {
    "pycharm": {
     "is_executing": true,
     "name": "#%%\n"
    }
   },
   "outputs": [],
   "source": [
    "# define local paths\n",
    "\n",
    "local_file_1 = f'{DEFAULT_DATA_DIR}/{EXAMPLE_DATASET[\"OWNER\"]}/{EXAMPLE_DATASET[\"NAME\"]}/{EXAMPLE_DATASET[\"FILE_1\"]}'\n",
    "local_file_2 = f'{DEFAULT_DATA_DIR}/{EXAMPLE_DATASET[\"OWNER\"]}/{EXAMPLE_DATASET[\"NAME\"]}/{EXAMPLE_DATASET[\"FILE_2\"]}' \n",
    "local_metadata_file = f'{DEFAULT_DATA_DIR}/{EXAMPLE_DATASET[\"OWNER\"]}/{EXAMPLE_DATASET[\"NAME\"]}/{DATASET_METADATA_FILE}'"
   ]
  },
  {
   "cell_type": "code",
   "execution_count": null,
   "metadata": {
    "pycharm": {
     "is_executing": false,
     "name": "#%%\n"
    }
   },
   "outputs": [],
   "source": [
    "# None of the local files exist at the start.  \n",
    "#   - Local File #1 is downloaded from the remote dataset.\n",
    "#   - Local File #2 is created locally then uploaded to the remote dataset.\n",
    "for filepath in [local_file_1,local_file_2,local_metadata_file]:\n",
    "    if path.exists(filepath) : os.remove(filepath)    \n",
    "    assert not path.exists(filepath)"
   ]
  },
  {
   "cell_type": "code",
   "execution_count": null,
   "metadata": {
    "pycharm": {
     "is_executing": false,
     "name": "#%%\n"
    }
   },
   "outputs": [],
   "source": [
    "\n",
    "# create the configfile\n",
    "configfile = save_test_config_file()\n",
    "\n",
    "\n",
    "# create the client instance\n",
    "# - credentials are loaded from the local environment at '/root/.kaggle/kaggle.json' by default\n",
    "# - datasets are downloaded to their corresponding paths in the relative 'data' folder by default\n",
    "\n",
    "client = kaggle_storage_client.KaggleStorageClient(configfile=configfile)\n",
    "\n",
    "t, m = type_descriptor(client)\n",
    "\n",
    "# show the KaggleStorageClient API in a DataFrame view\n",
    "data = [(t,mkey,(f'{msig}' if not f'{msig}'[0]=='(' else f'{msig} -> object') ) for (mkey,msig) in m]\n",
    "pandas.DataFrame(data, columns=[\"Interface\",\"Member\",\"Signature\"])"
   ]
  },
  {
   "cell_type": "code",
   "execution_count": null,
   "metadata": {
    "pycharm": {
     "is_executing": false,
     "name": "#%%\n"
    }
   },
   "outputs": [],
   "source": [
    "print_fstree()"
   ]
  },
  {
   "cell_type": "code",
   "execution_count": null,
   "metadata": {
    "pycharm": {
     "is_executing": false,
     "name": "#%%\n"
    }
   },
   "outputs": [],
   "source": [
    "# generate local file #1\n",
    "client.local_storage.save(  username=client.username, \n",
    "                            dataset=EXAMPLE_DATASET[\"NAME\"], \n",
    "                            filename=EXAMPLE_DATASET[\"FILE_1\"], \n",
    "                            content=EXAMPLE_DATASET[\"FILE_1_CONTENT\"])\n",
    "assert path.exists(local_file_1)\n",
    "\n",
    "# upload the file from the local storage to the kaggle dataset\n",
    "client.upload(EXAMPLE_DATASET[\"NAME\"], local_file_1)\n",
    "\n",
    "# show the generated file in a DataFrame\n",
    "read_csv(local_file_1)"
   ]
  },
  {
   "cell_type": "code",
   "execution_count": null,
   "metadata": {},
   "outputs": [],
   "source": [
    "import time\n",
    "time.sleep(1) "
   ]
  },
  {
   "cell_type": "code",
   "execution_count": null,
   "metadata": {
    "pycharm": {
     "is_executing": false,
     "name": "#%%\n"
    }
   },
   "outputs": [],
   "source": [
    "# downloads the remote example dataset file to the local file path\n",
    "downloaded_file = client.download(\n",
    "                                username=EXAMPLE_DATASET[\"OWNER\"], \n",
    "                                dataset =EXAMPLE_DATASET[\"NAME\"], \n",
    "                                filename=EXAMPLE_DATASET[\"FILE_1\"])\n",
    "\n",
    "# now the local file exists\n",
    "assert path.exists(local_file_1)\n",
    "# because\n",
    "assert local_file_1 == downloaded_file.replace('\\\\','/')\n",
    "\n",
    "# loads the example dataset from the downloaded file into a pandas DataFrame\n",
    "read_csv(downloaded_file)"
   ]
  },
  {
   "cell_type": "code",
   "execution_count": null,
   "metadata": {
    "pycharm": {
     "is_executing": false,
     "name": "#%%\n"
    }
   },
   "outputs": [],
   "source": [
    "list(client.local_storage.datasets)"
   ]
  },
  {
   "cell_type": "code",
   "execution_count": null,
   "metadata": {
    "pycharm": {
     "is_executing": false,
     "name": "#%%\n"
    }
   },
   "outputs": [],
   "source": [
    "list(client.local_storage.files)"
   ]
  },
  {
   "cell_type": "code",
   "execution_count": null,
   "metadata": {
    "pycharm": {
     "is_executing": false,
     "name": "#%%\n"
    }
   },
   "outputs": [],
   "source": [
    "# print_fstree('.')\n"
   ]
  },
  {
   "cell_type": "code",
   "execution_count": null,
   "metadata": {
    "pycharm": {
     "is_executing": false,
     "name": "#%%"
    }
   },
   "outputs": [],
   "source": [
    "# generate local file #2\n",
    "client.local_storage.save(  username=client.username, \n",
    "                            dataset=EXAMPLE_DATASET[\"NAME\"], \n",
    "                            filename=EXAMPLE_DATASET[\"FILE_2\"], \n",
    "                            content=EXAMPLE_DATASET[\"FILE_2_CONTENT\"])\n",
    "assert path.exists(local_file_2)\n",
    "\n",
    "# upload the file from the local storage to the kaggle dataset\n",
    "client.upload(EXAMPLE_DATASET[\"NAME\"], local_file_2)\n",
    "\n",
    "# show the generated file in a DataFrame\n",
    "read_csv(local_file_2)"
   ]
  }
 ],
 "metadata": {
  "kernelspec": {
   "display_name": "Python 3",
   "language": "python",
   "name": "python3"
  },
  "language_info": {
   "codemirror_mode": {
    "name": "ipython",
    "version": 3
   },
   "file_extension": ".py",
   "mimetype": "text/x-python",
   "name": "python",
   "nbconvert_exporter": "python",
   "pygments_lexer": "ipython3",
   "version": "3.8.2"
  },
  "pycharm": {
   "stem_cell": {
    "cell_type": "raw",
    "metadata": {
     "collapsed": false
    },
    "source": []
   }
  }
 },
 "nbformat": 4,
 "nbformat_minor": 1
}
